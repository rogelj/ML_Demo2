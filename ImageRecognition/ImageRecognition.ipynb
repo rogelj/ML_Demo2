{
 "cells": [
  {
   "cell_type": "markdown",
   "metadata": {},
   "source": [
    "# Machine Image Recognition\n",
    "\n",
    "> ### The human visual system is one of the wonders of the world.\n",
    "\n",
    "We carry in our heads a supercomputer. Our brain has billions of neurons, with even more connections between them, all tuned by evolution over hundreds of millions of years to be superbly adapted to understand the visual world.\n",
    "\n",
    "> ### This machine learning system knows its Chihuahuas from its Pomeranians. Using pixels alone.\n",
    "\n",
    "Over the past four years you have doubtlessly noticed quantum leaps in the quality of everyday technologies. Take your photo collection - you can now search or automatically organize collections of photos with no identifying tags. \n",
    "\n",
    "Think about that. To gather up dog pictures, the app must identify anything from a Chihuahua (or Pomeranian) to a German shepherd and not be tripped up if the pup is depicted upside down or partially obscured, at the right or the left of the frame, in fog or snow, sun or shade.\n",
    "\n",
    "Artificial neural networks are the fundamental programmes making it possible for machines to replicate the performance of the human visual system. Here we give you access to a neural network, which has many millions of neurons, for you to put to the task of recognising any image. Your move.\n",
    "\n",
    "_Text inspired by Nielsen ([2015](http://neuralnetworksanddeeplearning.com/chap1.html)) and Parloff ([2016](http://fortune.com/ai-artificial-intelligence-deep-machine-learning/))._"
   ]
  },
  {
   "cell_type": "markdown",
   "metadata": {},
   "source": [
    "## Label custom images\n",
    "<img src=\"dependencies/doc/images/UploadImage.png\" alt=\"Upload directions\" style=\"width: 350px; float: right; margin-right:10px;\"/>\n",
    "\n",
    "#### 1. Upload your JPEG photo in the same directory as this notebook\n",
    "- Use the `Upload` button at the top-right corner of the Jupyter page. \n",
    "\n",
    "#### 2. Run the machine learning model by selecting `Cell` and `Run All`\n",
    "\n",
    "\n",
    "#### 3. View results for different images using the drop-down menu\n",
    "\n",
    "_We have provided photos of our beautiful office Chihuahuas (`toby.JPG` & `chibi.JPG`)_"
   ]
  },
  {
   "cell_type": "markdown",
   "metadata": {},
   "source": [
    "## Code"
   ]
  },
  {
   "cell_type": "markdown",
   "metadata": {},
   "source": [
    "### Imports"
   ]
  },
  {
   "cell_type": "code",
   "execution_count": 1,
   "metadata": {
    "collapsed": true
   },
   "outputs": [],
   "source": [
    "import os\n",
    "from PIL import Image as pil_image\n",
    "import subprocess as subp"
   ]
  },
  {
   "cell_type": "code",
   "execution_count": 2,
   "metadata": {
    "collapsed": false
   },
   "outputs": [],
   "source": [
    "import matplotlib.pyplot as plt;\n",
    "%matplotlib inline"
   ]
  },
  {
   "cell_type": "code",
   "execution_count": 3,
   "metadata": {
    "collapsed": true
   },
   "outputs": [],
   "source": [
    "from IPython.display import display, Image\n",
    "import ipywidgets as widgets"
   ]
  },
  {
   "cell_type": "code",
   "execution_count": 4,
   "metadata": {
    "collapsed": false
   },
   "outputs": [],
   "source": [
    "import sys\n",
    "sys.path.append(\"./dependencies/modules\")\n",
    "import pretty_asi_plots"
   ]
  },
  {
   "cell_type": "markdown",
   "metadata": {},
   "source": [
    "### Plot styles"
   ]
  },
  {
   "cell_type": "code",
   "execution_count": 5,
   "metadata": {
    "collapsed": true
   },
   "outputs": [],
   "source": [
    "# hide ticks and box surrounding plots \n",
    "pretty_asi_plots.set_parameters([('xtick.major.size', 0),\n",
    "                               ('ytick.major.size', 0),\n",
    "                               ('axes.edgecolor', 'white')])\n",
    "# ASI  styles\n",
    "pretty_asi_plots.set_asi_styles()"
   ]
  },
  {
   "cell_type": "markdown",
   "metadata": {},
   "source": [
    "### Set up model and helper functions for classification and plotting"
   ]
  },
  {
   "cell_type": "markdown",
   "metadata": {},
   "source": [
    "General helper functions."
   ]
  },
  {
   "cell_type": "code",
   "execution_count": 6,
   "metadata": {
    "collapsed": true
   },
   "outputs": [],
   "source": [
    "def find_jpgs(directory='.', skip_list=['cropped_panda.jpg']):\n",
    "    '''Find .jpg and .JPG images in the given directory.\n",
    "    Return the file names of these images.'''\n",
    "    contents = os.listdir(directory)\n",
    "    \n",
    "    for skip in skip_list:\n",
    "        try:\n",
    "            contents.remove(skip)\n",
    "        except ValueError:\n",
    "            pass\n",
    "    \n",
    "    return [x for x in contents if x.lower().endswith('.jpg')]"
   ]
  },
  {
   "cell_type": "markdown",
   "metadata": {},
   "source": [
    "Classification functions."
   ]
  },
  {
   "cell_type": "code",
   "execution_count": 7,
   "metadata": {
    "collapsed": false
   },
   "outputs": [],
   "source": [
    "def classify_jpg(jpg, directory='.'):\n",
    "    '''Classify a given .jpg or .JPG image in given directory.'''\n",
    "    image_file = os.path.join(directory, jpg)\n",
    "    cmd = 'python ./dependencies/scripts/classify_image/classify_image.py --model_dir {} --image_file {}'.format(\n",
    "        './dependencies/model', image_file)\n",
    "    description = subp.check_output(cmd, shell=True)\n",
    "    return description\n",
    "\n",
    "def classify_jpgs(directory='.'):\n",
    "    '''Classify all .jpg and .JPG\n",
    "    images in given directory.'''\n",
    "    \n",
    "    jpgs = find_jpgs(directory)\n",
    "    \n",
    "    # if list empty\n",
    "    if not jpgs:\n",
    "        raise ValueError(\"No JPEGS found. Please upload at least one image.\")\n",
    "    \n",
    "    descriptions = {}\n",
    "    for jpg in jpgs: \n",
    "        descriptions[jpg] = classify_jpg(jpg, directory)\n",
    "    return descriptions\n",
    "\n",
    "def endlos(jpg, descriptions, directory='.', as_plot=True, max_image_width=500):\n",
    "    '''Function to be placed in the interactive widget.'''\n",
    "    if as_plot:\n",
    "        predictions = reformat_results(descriptions[jpg].decode('utf-8'))\n",
    "        plot(predictions)\n",
    "    else:\n",
    "        print(descriptions[jpg])\n",
    "    \n",
    "    # get image size\n",
    "    image_file = os.path.join(directory, jpg)\n",
    "    image = pil_image.open(image_file)\n",
    "    image_width, _ = image.size\n",
    "    \n",
    "    # constrain width\n",
    "    if image_width > max_image_width:\n",
    "        image_width = max_image_width\n",
    "    \n",
    "    return Image(image_file, width=image_width)"
   ]
  },
  {
   "cell_type": "markdown",
   "metadata": {},
   "source": [
    "Format and plot functions."
   ]
  },
  {
   "cell_type": "code",
   "execution_count": 8,
   "metadata": {
    "collapsed": true
   },
   "outputs": [],
   "source": [
    "def reformat_results(results):\n",
    "    '''Transform string of results \n",
    "    returned by model into tuples of\n",
    "    name as string, score as float'''\n",
    "    top_5_predictions = results.split('\\n')[:5]\n",
    "    names = [prediction.partition('(')[0].rstrip(' ').capitalize() \n",
    "             for prediction in top_5_predictions]\n",
    "    percent_scores = [float(prediction[-8:-1]) * 100. \n",
    "                      for prediction in top_5_predictions]\n",
    "    return zip(names, percent_scores)\n",
    "\n",
    "def plot(predictions):\n",
    "    '''Plot barh chart of predictions'''\n",
    "    \n",
    "    # convert to list\n",
    "    predictions = list(predictions)\n",
    "    # invert\n",
    "    predictions = predictions[::-1]\n",
    "    \n",
    "    # make names and scores\n",
    "    names = []\n",
    "    scores = []\n",
    "    \n",
    "    for i in range(0, len(predictions)):\n",
    "        names.append(predictions[i][0])\n",
    "        scores.append(predictions[i][1])\n",
    "    \n",
    "    fig, ax = plt.subplots()\n",
    "    n_bars = range(len(names))\n",
    "    ax.barh(n_bars, scores)\n",
    "    for i in n_bars:\n",
    "        ax.annotate(names[i], xy=(scores[i]+1, i),\n",
    "                    verticalalignment='bottom')\n",
    "    ax.set_yticklabels(('{:.1f}%'.format(score) \n",
    "                        for score in scores),\n",
    "                    verticalalignment='bottom')\n",
    "    ax.set_xlim(0, 101)\n",
    "    ax.set_xticks(range(25, 101, 25))\n",
    "    ax.xaxis.set_ticklabels(())\n",
    "    ax.xaxis.grid(True)\n",
    "    plt.show()"
   ]
  },
  {
   "cell_type": "markdown",
   "metadata": {},
   "source": [
    "### Run classification"
   ]
  },
  {
   "cell_type": "code",
   "execution_count": 9,
   "metadata": {
    "collapsed": true
   },
   "outputs": [],
   "source": [
    "# Classify all images in the given directory\n",
    "descriptions = classify_jpgs()"
   ]
  },
  {
   "cell_type": "markdown",
   "metadata": {},
   "source": [
    "Should take under a minute."
   ]
  },
  {
   "cell_type": "markdown",
   "metadata": {},
   "source": [
    "### Plot"
   ]
  },
  {
   "cell_type": "code",
   "execution_count": 10,
   "metadata": {
    "collapsed": false
   },
   "outputs": [
    {
     "data": {
      "image/png": "[encoded data removed]",
      "text/plain": [
       "<matplotlib.figure.Figure at 0x7f520afbb7f0>"
      ]
     },
     "metadata": {},
     "output_type": "display_data"
    },
    {
     "data": {
      "image/jpeg": "[encoded data removed]",
      "text/plain": [
       "<IPython.core.display.Image object>"
      ]
     },
     "metadata": {
      "image/jpeg": {
       "width": 429
      }
     },
     "output_type": "display_data"
    }
   ],
   "source": [
    "# Interactive widget\n",
    "jpgs_tuple = tuple(descriptions.keys())\n",
    "# suppress unwanted widget text output with semi-colon\n",
    "widgets.interact(lambda x: endlos(x, descriptions), x=jpgs_tuple);"
   ]
  },
  {
   "cell_type": "markdown",
   "metadata": {},
   "source": [
    "### Technical details\n",
    "\n",
    "__This demo__ classifies custom JPEG images using the pre-trained [Inception-v3](https://www.tensorflow.org/versions/r0.11/tutorials/image_recognition/index.html) model distributed with the [TensorFlow](https://www.tensorflow.org/) library. \n",
    "\n",
    "Inception-v3 is trained on [ILSVRC2014](http://image-net.org/challenges/LSVRC/2014/index#data), a variant of the ImageNet database consisting of 1.2 million images and 1,000 categories. It follows that this demo is capable of recognising 1,000 different types of objects as diverse as leopards, dishwashers and hats. \n",
    "\n",
    "__The Inception-v3 model__ is a special type of convolutional neural network, and contains about 25 million parameters. Even though this is a large number, Inception-v3 makes use of fewer parameters than competitor models such as AlexNet (60 million) and VGGNet (~135 million), while outperforming both. \n",
    "\n",
    "Inception-v3 correctly labels an image with its top prediction 78% of the time, whereas AlexNet (2012) and VGGNet (2014) achieve 54% and 70% top-prediction accuracy respectively ([Canziani et al.](https://arxiv.org/abs/1605.07678)). The top 5 predictions of Inception-v3 contained the correct label for the image 94% of the time when tested on the [ILSVRC2012](http://image-net.org/challenges/LSVRC/2012/) variant of the ImageNet dataset ([Szegedy et al.](https://arxiv.org/abs/1512.00567)).\n",
    "\n",
    "It is therefore to be expected that this demo will feature the correct label for a given image at most 94% of the time. On an intuitive level, this is because user-provided images will only partly be comparable with those from the ImageNet database. \n",
    "\n",
    "__Training__ of the Inception-v3 model that is distributed alongside TensorFlow was seemingly run on a powerful computer with 128GB of CPU RAM and 8 NVIDIA Tesla K40 GPU cards. Replicating this feat on a normal desktop machine is clearly impossible. But, while training Inception-v3 demands substantial computational resources, classification of images with this model is relatively 'simple'. It takes Inception-v3 around 5 billion multiply-add operations to process a single image. Don't be deceived by the apparent magnitude of this number, modern machines can nowadays complete the task in few seconds. \n",
    "\n",
    "Performance for images that depict humans has been [observed](https://github.com/Hvass-Labs/TensorFlow-Tutorials/blob/master/07_Inception_Model.ipynb) to still be a struggle for Inception-v3. Dogs, however... "
   ]
  },
  {
   "cell_type": "markdown",
   "metadata": {},
   "source": [
    "### Think you can beat the machine at recognising images? You can [test yourself here](http://cs.stanford.edu/people/karpathy/ilsvrc/)"
   ]
  },
  {
   "cell_type": "code",
   "execution_count": null,
   "metadata": {
    "collapsed": true
   },
   "outputs": [],
   "source": []
  }
 ],
 "metadata": {
  "anaconda-cloud": {},
  "kernelspec": {
   "display_name": "Python [conda env:Python3]",
   "language": "python",
   "name": "conda-env-Python3-py"
  },
  "language_info": {
   "codemirror_mode": {
    "name": "ipython",
    "version": 3
   },
   "file_extension": ".py",
   "mimetype": "text/x-python",
   "name": "python",
   "nbconvert_exporter": "python",
   "pygments_lexer": "ipython3",
   "version": "3.5.2"
  }
 },
 "nbformat": 4,
 "nbformat_minor": 1
}
