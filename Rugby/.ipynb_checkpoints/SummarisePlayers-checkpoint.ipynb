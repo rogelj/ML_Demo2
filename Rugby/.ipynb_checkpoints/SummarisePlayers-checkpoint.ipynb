{
 "cells": [
  {
   "cell_type": "markdown",
   "metadata": {},
   "source": [
    "<font face=\"Proxima Nova\" size=6 color=#505966>\n",
    "<p>\n",
    "    View match statistics for any player in the world\n",
    "<br><br>\n",
    "</p></font>\n",
    "<font face=\"Proxima Nova\" size=4 color=#889CB4>\n",
    "<p>\n",
    "    To activate the search bar, press shift+enter in the window below\n",
    "</p>\n",
    "</font>\n",
    "\n"
   ]
  },
  {
   "cell_type": "code",
   "execution_count": 1,
   "metadata": {
    "collapsed": false
   },
   "outputs": [
    {
     "data": {
      "application/javascript": [
       "IPython.OutputArea.prototype._should_scroll = function(lines) {\n",
       "            return false;\n",
       "            }"
      ],
      "text/plain": [
       "<IPython.core.display.Javascript object>"
      ]
     },
     "metadata": {},
     "output_type": "display_data"
    }
   ],
   "source": [
    "!/home/sherlock/anaconda/envs/Python2/bin/pip install -r requirements.txt > /dev/null;\n",
    "from modules import summarise_players\n",
    "reload(summarise_players)\n",
    "summarise_players.summarise()"
   ]
  }
 ],
 "metadata": {
  "anaconda-cloud": {},
  "kernelspec": {
   "display_name": "Python [conda env:Python2]",
   "language": "python",
   "name": "conda-env-Python2-py"
  },
  "language_info": {
   "codemirror_mode": {
    "name": "ipython",
    "version": 2
   },
   "file_extension": ".py",
   "mimetype": "text/x-python",
   "name": "python",
   "nbconvert_exporter": "python",
   "pygments_lexer": "ipython2",
   "version": "2.7.13"
  },
  "widgets": {
   "state": {
    "bd72ebc00d6c4e8f9ac572a935a5fc37": {
     "views": [
      {
       "cell_index": 1
      }
     ]
    }
   },
   "version": "1.2.0"
  }
 },
 "nbformat": 4,
 "nbformat_minor": 1
}
