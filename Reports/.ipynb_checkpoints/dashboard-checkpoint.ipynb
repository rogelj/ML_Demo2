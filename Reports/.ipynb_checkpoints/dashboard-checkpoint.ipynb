{
 "cells": [
  {
   "cell_type": "code",
   "execution_count": 113,
   "metadata": {
    "collapsed": false
   },
   "outputs": [],
   "source": [
    "import plotly.plotly as py\n",
    "import plotly.offline as off\n",
    "from plotly.graph_objs import Scatter, Layout\n",
    "from plotly import tools"
   ]
  },
  {
   "cell_type": "code",
   "execution_count": 114,
   "metadata": {
    "collapsed": false
   },
   "outputs": [
    {
     "data": {
      "text/html": [
       "<script>requirejs.config({paths: { 'plotly': ['https://cdn.plot.ly/plotly-latest.min']},});if(!window.Plotly) {{require(['plotly'],function(plotly) {window.Plotly=plotly;});}}</script>"
      ],
      "text/plain": [
       "<IPython.core.display.HTML object>"
      ]
     },
     "metadata": {},
     "output_type": "display_data"
    }
   ],
   "source": [
    "import datetime as dt\n",
    "import numpy as np\n",
    "import matplotlib.pyplot as plt\n",
    "import matplotlib.dates as mdates\n",
    "import pandas as pd\n",
    "\n",
    "from collections import OrderedDict\n",
    "\n",
    "from plotly import __version__\n",
    "from plotly.offline import download_plotlyjs, init_notebook_mode, plot, iplot\n",
    "init_notebook_mode(connected=True)\n",
    "import plotly.plotly as py\n",
    "import plotly.graph_objs as go"
   ]
  },
  {
   "cell_type": "code",
   "execution_count": 115,
   "metadata": {
    "collapsed": false
   },
   "outputs": [],
   "source": [
    "df_plot = pd.read_pickle('dataframe_for_plots.pkl')\n",
    "df_plot['info_level'].iloc[2] = 'first_purchase'"
   ]
  },
  {
   "cell_type": "code",
   "execution_count": 116,
   "metadata": {
    "collapsed": false
   },
   "outputs": [],
   "source": [
    "info_level_list=[]\n",
    "for entry in df_plot['info_level']:\n",
    "    info_level_list.append(entry.replace('_',' '))\n",
    "    \n",
    "df_plot['info_level'] = info_level_list"
   ]
  },
  {
   "cell_type": "code",
   "execution_count": 117,
   "metadata": {
    "collapsed": false
   },
   "outputs": [],
   "source": [
    "for col in ['1000','2000','5000','10000']:\n",
    "    info = []\n",
    "    for entry in df_plot[col]:\n",
    "        info.append(entry.round(1))\n",
    "\n",
    "    df_plot[col]=info"
   ]
  },
  {
   "cell_type": "code",
   "execution_count": 118,
   "metadata": {
    "collapsed": false
   },
   "outputs": [],
   "source": [
    "thres_df = pd.DataFrame(['£100', '£200','£500','£1000'])\n",
    "thres_df.columns=['High value threshold']\n",
    "thres_df['Revenue (%)'] = [88.3,82.5,71.0, 60.8]\n",
    "thres_df['Customer (%)'] = [17.0,10.9,5.4, 2.8]\n",
    "\n",
    "trans_df = thres_df.transpose()\n",
    "trans_df.columns=['£100', '£200','£500','£1000']\n",
    "trans_df = trans_df[1:]"
   ]
  },
  {
   "cell_type": "markdown",
   "metadata": {},
   "source": [
    "Predicting high value customers is important two different reasons. \n",
    "\n",
    "The first is to allow flagging up predicted high value customers to allow for resources to be targeted more efficently. \n",
    "\n",
    "The second is to allow marketing to optimise as quickly as possible advertising and channels which are bringing in high value customers over channels which bring in people for cheaper but significantly lower in value. \n",
    "\n",
    "### What is a high value customer?\n",
    "\n",
    "In this work we have defined a high value customer as someone who spends above a given threshold in the first six months. As in our previous work, we have seen that only a few users significantly change their behaviour, so this simplification allows for very concrete metrics without losing the details. In the following work, we have used the following different thresholds: £100, £200, £500, £1000.\n",
    "\n",
    "The following graph shows the percentage of customers above each threshold and the percentage of the revenues that they contribute to"
   ]
  },
  {
   "cell_type": "code",
   "execution_count": 119,
   "metadata": {
    "collapsed": false
   },
   "outputs": [
    {
     "data": {
      "text/html": [
       "<div id=\"8f1fc83d-6f78-44f9-bbe8-6bec7b316292\" style=\"height: 525px; width: 100%;\" class=\"plotly-graph-div\"></div><script type=\"text/javascript\">require([\"plotly\"], function(Plotly) { window.PLOTLYENV=window.PLOTLYENV || {};window.PLOTLYENV.BASE_URL=\"https://plot.ly\";Plotly.newPlot(\"8f1fc83d-6f78-44f9-bbe8-6bec7b316292\", [{\"y\": [88.3, 17.0], \"x\": [\"Revenue (%)\", \"Customer (%)\"], \"type\": \"bar\", \"name\": \"\\u00a3100\"}, {\"y\": [82.5, 10.9], \"x\": [\"Revenue (%)\", \"Customer (%)\"], \"type\": \"bar\", \"name\": \"\\u00a3200\"}, {\"y\": [71.0, 5.4], \"x\": [\"Revenue (%)\", \"Customer (%)\"], \"type\": \"bar\", \"name\": \"\\u00a3500\"}, {\"y\": [60.8, 2.8], \"x\": [\"Revenue (%)\", \"Customer (%)\"], \"type\": \"bar\", \"name\": \"\\u00a31000\"}], {\"barmode\": \"overlay\", \"title\": \"Comparsion of the different thresholds\", \"xaxis\": {}, \"yaxis\": {\"title\": \"Revenue (%)\"}}, {\"linkText\": \"Export to plot.ly\", \"showLink\": true})});</script>"
      ],
      "text/plain": [
       "<IPython.core.display.HTML object>"
      ]
     },
     "metadata": {},
     "output_type": "display_data"
    }
   ],
   "source": [
    "data=[]\n",
    "for col in trans_df.columns:\n",
    "    trace = go.Bar(\n",
    "        x=trans_df.index,\n",
    "        y=trans_df[col],\n",
    "        name=col\n",
    "        )\n",
    "    \n",
    "    data.append(trace)\n",
    "\n",
    "\n",
    "layout = go.Layout(\n",
    "    title='Comparsion of the different thresholds',\n",
    "    barmode= 'overlay',\n",
    "    xaxis=dict(\n",
    "    ),\n",
    "    yaxis=dict(\n",
    "        title = \"Revenue (%)\"\n",
    "    )\n",
    ")\n",
    "fig = go.Figure(data=data, layout=layout)\n",
    "off.iplot(fig, filename='side-by-side-subplot')"
   ]
  },
  {
   "cell_type": "code",
   "execution_count": 120,
   "metadata": {
    "collapsed": false
   },
   "outputs": [
    {
     "data": {
      "text/html": [
       "<div id=\"0c9fcf2c-8dad-4e86-aa78-dc7b399b6183\" style=\"height: 525px; width: 100%;\" class=\"plotly-graph-div\"></div><script type=\"text/javascript\">require([\"plotly\"], function(Plotly) { window.PLOTLYENV=window.PLOTLYENV || {};window.PLOTLYENV.BASE_URL=\"https://plot.ly\";Plotly.newPlot(\"0c9fcf2c-8dad-4e86-aa78-dc7b399b6183\", [{\"y\": [88.3, 82.5, 71.0, 60.8], \"x\": [\"\\u00a3100\", \"\\u00a3200\", \"\\u00a3500\", \"\\u00a31000\"], \"type\": \"bar\", \"name\": \"Revenue\"}, {\"name\": \"Customers\", \"yaxis\": \"y2\", \"xaxis\": \"x2\", \"y\": [17.0, 10.9, 5.4, 2.8], \"x\": [\"\\u00a3100\", \"\\u00a3200\", \"\\u00a3500\", \"\\u00a31000\"], \"type\": \"bar\"}], {\"yaxis2\": {\"anchor\": \"x2\", \"title\": \"Customers (%)\"}, \"title\": \"Comparsion of the different thresholds\", \"xaxis2\": {\"domain\": [0.55, 1]}, \"xaxis\": {\"domain\": [0, 0.4]}, \"yaxis\": {\"title\": \"Revenue (%)\"}}, {\"linkText\": \"Export to plot.ly\", \"showLink\": true})});</script>"
      ],
      "text/plain": [
       "<IPython.core.display.HTML object>"
      ]
     },
     "metadata": {},
     "output_type": "display_data"
    }
   ],
   "source": [
    "trace1 = go.Bar(\n",
    "    x=thres_df['High value threshold'],\n",
    "    y=thres_df['Revenue (%)'],\n",
    "    name='Revenue'\n",
    ")\n",
    "\n",
    "trace2 = go.Bar(\n",
    "    x=thres_df['High value threshold'],\n",
    "    y=thres_df['Customer (%)'],\n",
    "    xaxis='x2',\n",
    "    yaxis='y2',\n",
    "    name='Customers'\n",
    ")\n",
    "\n",
    "data = [trace1, trace2]\n",
    "layout = go.Layout(\n",
    "    title='Comparsion of the different thresholds',\n",
    "    xaxis=dict(\n",
    "        domain=[0, 0.4]\n",
    "    ),\n",
    "    yaxis=dict(\n",
    "        title = \"Revenue (%)\"\n",
    "    ),\n",
    "    xaxis2=dict(\n",
    "        domain=[0.55, 1]\n",
    "    ),\n",
    "    yaxis2=dict(\n",
    "        anchor='x2',\n",
    "        title = \"Customers (%)\"\n",
    "    )\n",
    ")\n",
    "fig = go.Figure(data=data, layout=layout)\n",
    "off.iplot(fig, filename='side-by-side-subplot')"
   ]
  },
  {
   "cell_type": "code",
   "execution_count": 121,
   "metadata": {
    "collapsed": false
   },
   "outputs": [
    {
     "data": {
      "text/html": [
       "<div id=\"91b325b8-ea3d-47f3-bad5-f5aad1a61db1\" style=\"height: 525px; width: 100%;\" class=\"plotly-graph-div\"></div><script type=\"text/javascript\">require([\"plotly\"], function(Plotly) { window.PLOTLYENV=window.PLOTLYENV || {};window.PLOTLYENV.BASE_URL=\"https://plot.ly\";Plotly.newPlot(\"91b325b8-ea3d-47f3-bad5-f5aad1a61db1\", [{\"text\": [\"\\u00a3100\", \"\\u00a3200\", \"\\u00a3500\", \"\\u00a31000\"], \"marker\": {\"color\": \"rgba(255, 182, 193, .9)\", \"line\": {\"width\": 4}, \"size\": 15}, \"mode\": \"markers\", \"y\": [88.3, 82.5, 71.0, 60.8], \"x\": [17.0, 10.9, 5.4, 2.8], \"type\": \"scatter\"}], {\"barmode\": \"group\", \"yaxis\": {\"range\": [0, 100], \"title\": \"Revenue (%)\"}, \"xaxis\": {\"range\": [0, 25], \"title\": \"Customer (%)\"}, \"title\": \"Comparsion of the different thresholds\"}, {\"linkText\": \"Export to plot.ly\", \"showLink\": true})});</script>"
      ],
      "text/plain": [
       "<IPython.core.display.HTML object>"
      ]
     },
     "metadata": {},
     "output_type": "display_data"
    }
   ],
   "source": [
    "trace1 = go.Scatter(\n",
    "    y=thres_df['Revenue (%)'],\n",
    "    x=thres_df['Customer (%)'],\n",
    "    text=thres_df['High value threshold'],\n",
    "    mode = 'markers',\n",
    "    marker = dict(\n",
    "        size = 15,\n",
    "        color = 'rgba(255, 182, 193, .9)',\n",
    "        line = dict(\n",
    "            width = 4,\n",
    "        )\n",
    "    )\n",
    ")\n",
    "\n",
    "\n",
    "data = [trace1]\n",
    "layout = go.Layout(\n",
    "    barmode='group',\n",
    "    yaxis = dict(\n",
    "    title='Revenue (%)',\n",
    "    range=[0,100]\n",
    "    \n",
    "    ),\n",
    "    xaxis = dict(\n",
    "    title='Customer (%)',\n",
    "    range=[0,25]\n",
    "    ),\n",
    "    title='Comparsion of the different thresholds'\n",
    ")\n",
    "\n",
    "fig = go.Figure(data=data, layout=layout)\n",
    "off.iplot(fig, filename='grouped-bar')\n"
   ]
  },
  {
   "cell_type": "markdown",
   "metadata": {},
   "source": [
    "The threshold choice should not be set in stone, but it should depend on the different tasks. For instance, for personalised engagement the £500 threshold might be appropriate, whereas for prioritising initial phone calls and introductory packages the £100 threshold might be more appropriate."
   ]
  },
  {
   "cell_type": "markdown",
   "metadata": {},
   "source": [
    "## The model\n",
    "\n",
    "After an initial exploration phase, we have selected relevant features and we have built a Machine Learning model. The model assigns a probability to each customer of being HVC. If we rank the customers depending on the associated probability, the model is an effective tool for prioritising the customers to be targeted. \n",
    "\n",
    "The blue line on the plot shows a random sorting of the clients. If we don't have any model the HVCs will be randomly inserted in the list of clients, and in the first 20% of the list we can expect to find 20% of HVC, in 50% of the list 50% of HVCs and so on. \n",
    "\n",
    "If we sort the list according to the probability assigned by our model, however, we can see that 50% of HVCs can be found in less than 10% of the list of customers. This means a large part of HCVs can be reached by targeting a small percentage of customers. \n",
    "\n",
    "As an example, if we chose the £200 threshold and then look at data available after 1 week we see we would need to call 8.3% of customers to reach 50% of the customers who will go on to spend over £200 in the first six months. To get the same coverage of HVCs using a random system to call them, we would have to call 50% of the users, so this model is 5 times more effective.\n"
   ]
  },
  {
   "cell_type": "markdown",
   "metadata": {},
   "source": [
    "## Model performance\n",
    "The following graph shows how the model performs at each stage in the customer journey from sign up through to when they have been users for 30 days.\n",
    "\n",
    "As a metric to compare the models we have used \"% customers needed to interact with to hit 50% of the HVC's\". \n",
    "\n"
   ]
  },
  {
   "cell_type": "code",
   "execution_count": 122,
   "metadata": {
    "collapsed": false
   },
   "outputs": [
    {
     "data": {
      "text/html": [
       "<div id=\"602b308c-a627-4584-bc49-4ded75462dac\" style=\"height: 525px; width: 100%;\" class=\"plotly-graph-div\"></div><script type=\"text/javascript\">require([\"plotly\"], function(Plotly) { window.PLOTLYENV=window.PLOTLYENV || {};window.PLOTLYENV.BASE_URL=\"https://plot.ly\";Plotly.newPlot(\"602b308c-a627-4584-bc49-4ded75462dac\", [{\"y\": [35.9, 24.8, 20.3, 11.2, 9.0, 8.8], \"x\": [\"signup\", \"funding\", \"first purchase\", \"one week\", \"thirty days\", \"all info\"], \"type\": \"bar\", \"name\": \"\\u00a3100\"}, {\"y\": [32.6, 22.7, 18.3, 8.3, 6.1, 5.8], \"x\": [\"signup\", \"funding\", \"first purchase\", \"one week\", \"thirty days\", \"all info\"], \"type\": \"bar\", \"name\": \"\\u00a3200\"}, {\"y\": [27.8, 18.8, 15.0, 5.4, 3.6, 3.0], \"x\": [\"signup\", \"funding\", \"first purchase\", \"one week\", \"thirty days\", \"all info\"], \"type\": \"bar\", \"name\": \"\\u00a3500\"}, {\"y\": [23.1, 15.8, 11.4, 3.4, 2.1, 1.6], \"x\": [\"signup\", \"funding\", \"first purchase\", \"one week\", \"thirty days\", \"all info\"], \"type\": \"bar\", \"name\": \"\\u00a31000\"}], {\"barmode\": \"overlay\", \"yaxis\": {\"title\": \"Percentage of customers to reach 50% of HV customers\"}, \"xaxis\": {\"title\": \"Postion in journey\"}, \"title\": \"Performance of model\"}, {\"linkText\": \"Export to plot.ly\", \"showLink\": true})});</script>"
      ],
      "text/plain": [
       "<IPython.core.display.HTML object>"
      ]
     },
     "metadata": {},
     "output_type": "display_data"
    }
   ],
   "source": [
    "trace1 = go.Bar(\n",
    "    x=df_plot['info_level'],\n",
    "    y=df_plot['1000'],\n",
    "    name='£100',\n",
    ")\n",
    "\n",
    "trace2 = go.Bar(\n",
    "        x=df_plot['info_level'],\n",
    "    y=df_plot['2000'],\n",
    "    name='£200',\n",
    ")\n",
    "\n",
    "trace3 = go.Bar(\n",
    "        x=df_plot['info_level'],\n",
    "    y=df_plot['5000'],\n",
    "    name='£500',\n",
    ")\n",
    "\n",
    "trace4 = go.Bar(\n",
    "        x=df_plot['info_level'],\n",
    "    y=df_plot['10000'],\n",
    "    name='£1000',\n",
    ")\n",
    "\n",
    "data = [trace1,trace2,trace3,trace4]\n",
    "layout = go.Layout(\n",
    "    barmode='overlay',\n",
    "    xaxis = dict(\n",
    "    title='Postion in journey'\n",
    "    ),\n",
    "    yaxis = dict(\n",
    "    title='Percentage of customers to reach 50% of HV customers'\n",
    "    ),\n",
    "    title='Performance of model'\n",
    ")\n",
    "\n",
    "fig = go.Figure(data=data, layout=layout)\n",
    "off.iplot(fig, filename='grouped-bar')\n"
   ]
  },
  {
   "cell_type": "code",
   "execution_count": null,
   "metadata": {
    "collapsed": true
   },
   "outputs": [],
   "source": []
  }
 ],
 "metadata": {
  "anaconda-cloud": {},
  "kernelspec": {
   "display_name": "Python [conda env:Python2]",
   "language": "python",
   "name": "conda-env-Python2-py"
  },
  "language_info": {
   "codemirror_mode": {
    "name": "ipython",
    "version": 2
   },
   "file_extension": ".py",
   "mimetype": "text/x-python",
   "name": "python",
   "nbconvert_exporter": "python",
   "pygments_lexer": "ipython2",
   "version": "2.7.13"
  }
 },
 "nbformat": 4,
 "nbformat_minor": 2
}
